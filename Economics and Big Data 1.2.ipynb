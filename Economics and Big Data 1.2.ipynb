{
 "cells": [
  {
   "cell_type": "code",
   "execution_count": 3,
   "metadata": {},
   "outputs": [],
   "source": [
    "import matplotlib\n",
    "import sklearn\n",
    "import pandas as pd\n",
    "import numpy as np\n",
    "import os\n",
    "import matplotlib.pyplot as plt"
   ]
  },
  {
   "cell_type": "markdown",
   "metadata": {},
   "source": [
    "# 1. Import data\n",
    "\n",
    "## Import target"
   ]
  },
  {
   "cell_type": "code",
   "execution_count": 7,
   "metadata": {},
   "outputs": [],
   "source": [
    "#Housing prices, France\n",
    "\n",
    "hp = pd.read_csv(\"https://api.db.nomics.world/v22/series/OECD/HOUSE_PRICES/Q.FRA.RHP.csv\",\n",
    "#                 index_col = 0\n",
    "                )\n",
    "hp['period'] = pd.to_datetime(hp[\"period\"])\n",
    "hp = hp.set_index('period')\n",
    "hp.columns = ['hp']"
   ]
  },
  {
   "cell_type": "code",
   "execution_count": 9,
   "metadata": {},
   "outputs": [],
   "source": [
    "# UI claims, USA\n",
    "\n",
    "    \n",
    "ui = pd.read_csv(\"https://api.db.nomics.world/v22/series/oppins/UI/contclaims_rate_combined.US.CONTCLAIMS_RATE_COMBINED.W.csv\",\n",
    "#                 index_col = 0\n",
    "                )\n",
    "ui['period'] = pd.to_datetime(ui[\"period\"])\n",
    "ui = ui.set_index('period')\n",
    "ui.columns = ['ui']"
   ]
  },
  {
   "cell_type": "markdown",
   "metadata": {},
   "source": [
    "## Import Google Trends variables\n",
    "\n",
    "The Google Trends vars are already pre-treated as described in Woloszko (2020), the vars are in year-on-year log difference. "
   ]
  },
  {
   "cell_type": "code",
   "execution_count": 10,
   "metadata": {},
   "outputs": [],
   "source": [
    "# Google Trends, France\n",
    "gt_f = pd.read_csv(\"https://github.com/NicolasWoloszko/Course_economics_big_data/raw/main/data_fr.csv\")\n",
    "gt_f['date'] = pd.to_datetime(gt_f[\"date\"])\n",
    "gt_f = gt_f.set_index('date')"
   ]
  },
  {
   "cell_type": "code",
   "execution_count": 14,
   "metadata": {},
   "outputs": [],
   "source": [
    "gt_us = pd.read_csv(\"https://github.com/NicolasWoloszko/Course_economics_big_data/raw/main/data_us.csv\")\n",
    "gt_us['date'] = pd.to_datetime(gt_us[\"date\"])\n",
    "gt_us = gt_us.set_index('date')"
   ]
  },
  {
   "cell_type": "markdown",
   "metadata": {},
   "source": [
    "# 2. Create  data set for machine learning"
   ]
  },
  {
   "cell_type": "code",
   "execution_count": null,
   "metadata": {},
   "outputs": [],
   "source": [
    "# Do you thinkg you should use the house prices / UI claims in level, growth rate, delta...???"
   ]
  },
  {
   "cell_type": "code",
   "execution_count": null,
   "metadata": {},
   "outputs": [],
   "source": [
    "#merge the GT variables and target variable using pd.concat([])"
   ]
  },
  {
   "cell_type": "code",
   "execution_count": null,
   "metadata": {},
   "outputs": [],
   "source": [
    "# Define X and y\n",
    "X = \n",
    "y = "
   ]
  },
  {
   "cell_type": "markdown",
   "metadata": {},
   "source": [
    "# 3. Modelling\n",
    "\n",
    "## Create an awesome ML model"
   ]
  },
  {
   "cell_type": "code",
   "execution_count": 16,
   "metadata": {},
   "outputs": [],
   "source": [
    "from sklearn.linear_model import LinearRegression\n",
    "model = LinearRegression()"
   ]
  },
  {
   "cell_type": "markdown",
   "metadata": {},
   "source": [
    "## Run the forecast simulations"
   ]
  },
  {
   "cell_type": "code",
   "execution_count": null,
   "metadata": {},
   "outputs": [],
   "source": [
    "from sklearn.model_selection import TimeSeriesSplit\n",
    "from ML_Forecast.ml_forecast.cross_val_predict import cross_val_predict\n",
    "\n",
    "preds = cross_val_predict(estimator=model, \n",
    "                          X=X,\n",
    "                          y=y,\n",
    "                          cv=TimeSeriesSplit(#you may want to think carefully about what you put inside this function,\n",
    "                          n_jobs = -1#need for speed ! )\n",
    "\n",
    "preds = pd.Series(preds, index = X.index)"
   ]
  },
  {
   "cell_type": "code",
   "execution_count": null,
   "metadata": {},
   "outputs": [],
   "source": [
    "# create a data frame with the predictions and the true y\n",
    "df = "
   ]
  },
  {
   "cell_type": "code",
   "execution_count": null,
   "metadata": {},
   "outputs": [],
   "source": [
    "# Compute RMSE\n",
    "from sklearn import metrics.mean_squared_error"
   ]
  },
  {
   "cell_type": "code",
   "execution_count": null,
   "metadata": {},
   "outputs": [],
   "source": [
    "#make a chart (always!)\n",
    "fig, ax = plt.subplots(nrows=1, ncols=1, figsize=(15, 5))\n",
    "\n",
    "df['Predictions'].plot(ax=ax,  lw = 4, ms=2, \n",
    "           label = \"Predictions\")\n",
    "\n",
    "df['Y'].plot(ax=ax,   lw = 3, ms=2, \n",
    "           label = \"Y\")\n",
    "   \n",
    "ax.set_xlabel('')\n",
    "ax.yaxis.set_major_formatter(mtick.PercentFormatter(decimals = 0))\n",
    "\n",
    "ax.tick_params(axis='both', which='both', labelsize=18)\n",
    "ax.tick_params(axis='x', which='both', labelsize=18, pad = -20)\n",
    "\n",
    "ax.legend(prop=dict(size=18))\n",
    "\n",
    "plt.savefig(\"......\", bbox_inches='tight', dpi=300)\n"
   ]
  }
 ],
 "metadata": {
  "kernelspec": {
   "display_name": "Python 3",
   "language": "python",
   "name": "python3"
  },
  "language_info": {
   "codemirror_mode": {
    "name": "ipython",
    "version": 3
   },
   "file_extension": ".py",
   "mimetype": "text/x-python",
   "name": "python",
   "nbconvert_exporter": "python",
   "pygments_lexer": "ipython3",
   "version": "3.8.3"
  }
 },
 "nbformat": 4,
 "nbformat_minor": 4
}
